{
 "cells": [
  {
   "cell_type": "code",
   "execution_count": 1,
   "id": "4e119ea2-db84-4be7-aa7a-bf9621c4f719",
   "metadata": {},
   "outputs": [
    {
     "name": "stderr",
     "output_type": "stream",
     "text": [
      "/Users/wenyiye/anaconda3/lib/python3.11/site-packages/pandas/core/arrays/masked.py:60: UserWarning: Pandas requires version '1.3.6' or newer of 'bottleneck' (version '1.3.5' currently installed).\n",
      "  from pandas.core import (\n",
      "Matplotlib is building the font cache; this may take a moment.\n"
     ]
    }
   ],
   "source": [
    "import scanpy as sc\n",
    "import pandas as pd\n",
    "import numpy as np\n",
    "from pathlib import Path\n",
    "import matplotlib.pyplot as plt\n",
    "from matplotlib.image import imread\n",
    "import seaborn as sns\n",
    "import os\n",
    "import json\n",
    "\n",
    "\n",
    "import matplotlib.colorbar as mplcb\n",
    "import matplotlib.cm as mplcm\n",
    "\n",
    "#sc.logging.print_header()\n",
    "#sc.settings.verbosity = 3"
   ]
  },
  {
   "cell_type": "code",
   "execution_count": 3,
   "id": "d289ef70-9fb6-41a8-9a03-d05efa2c5b94",
   "metadata": {},
   "outputs": [
    {
     "name": "stdout",
     "output_type": "stream",
     "text": [
      "/Users/wenyiye/math 547 /HFD14/ST/\n",
      "Memory usage: current 0.68 GB, difference +0.68 GB\n"
     ]
    },
    {
     "data": {
      "text/plain": [
       "AnnData object with n_obs × n_vars = 7146 × 31053\n",
       "    obs: 'in_tissue_x', 'array_row_x', 'array_col_x', 'in_tissue_y', 'array_row_y', 'array_col_y'\n",
       "    var: 'gene_ids', 'feature_types'\n",
       "    uns: 'spatial'\n",
       "    obsm: 'spatial'"
      ]
     },
     "execution_count": 3,
     "metadata": {},
     "output_type": "execute_result"
    }
   ],
   "source": [
    "def read_visium(path, library_id='stx'):\n",
    "    r\"\"\"Read 10x-Genomics-formatted visum dataset.\n",
    "    \"\"\"\n",
    "    path = Path(path)\n",
    "    matrix_path = path / \"filtered_feature_bc_matrix/\"\n",
    "    adata = sc.read_10x_mtx(matrix_path)\n",
    "\n",
    "    adata.uns[\"spatial\"] = dict()\n",
    "    adata.uns[\"spatial\"][library_id] = dict()\n",
    "\n",
    "    tissue_positions_file = (\n",
    "        path / \"spatial/tissue_positions.csv\"\n",
    "        if (path / \"spatial/tissue_positions.csv\").exists()\n",
    "        else path / \"spatial/tissue_positions_list.csv\"\n",
    "    )\n",
    "    files = dict(\n",
    "        tissue_positions_file=tissue_positions_file,\n",
    "        scalefactors_json_file=path / \"spatial/scalefactors_json.json\",\n",
    "        hires_image=path / \"spatial/tissue_hires_image.png\",\n",
    "        lowres_image=path / \"spatial/tissue_lowres_image.png\",\n",
    "    )\n",
    "\n",
    "    # check if files exists, continue if images are missing\n",
    "    for f in files.values():\n",
    "        if not f.exists():\n",
    "            if any(x in str(f) for x in [\"tissue_hires_image\", \"tissue_lowres_image\"]):\n",
    "                logg.warning(\n",
    "                    f\"You seem to be missing an image file.\\nCould not find {f}.\"\n",
    "                )\n",
    "            else:\n",
    "                msg = f\"Could not find {f}\"\n",
    "                raise OSError(msg)\n",
    "\n",
    "    adata.uns[\"spatial\"][library_id][\"images\"] = dict()\n",
    "\n",
    "    for res in [\"hires\", \"lowres\"]:\n",
    "        image_path = str(files[f\"{res}_image\"])\n",
    "        adata.uns[\"spatial\"][library_id][\"images\"][res] = imread(image_path)\n",
    "      \n",
    "        # read json scalefactors\n",
    "        adata.uns[\"spatial\"][library_id][\"scalefactors\"] = json.loads(\n",
    "            files[\"scalefactors_json_file\"].read_bytes()\n",
    "        )\n",
    "\n",
    "        # read coordinates\n",
    "        positions = pd.read_csv(\n",
    "            files[\"tissue_positions_file\"],\n",
    "            header=0 if tissue_positions_file.name == \"tissue_positions.csv\" else None,\n",
    "            index_col=0,\n",
    "        )\n",
    "        positions.columns = [\n",
    "            \"in_tissue\",\n",
    "            \"array_row\",\n",
    "            \"array_col\",\n",
    "            \"pxl_col_in_fullres\",\n",
    "            \"pxl_row_in_fullres\",\n",
    "        ]\n",
    "\n",
    "        adata.obs = pd.merge(\n",
    "            adata.obs,\n",
    "            positions,\n",
    "            how='left',\n",
    "            left_index=True,\n",
    "            right_index=True,\n",
    "        )\n",
    "\n",
    "        adata.obsm[\"spatial\"] = adata.obs[\n",
    "            [\"pxl_row_in_fullres\", \"pxl_col_in_fullres\"]\n",
    "        ].to_numpy()\n",
    "        adata.obs.drop(\n",
    "            columns=[\"pxl_row_in_fullres\", \"pxl_col_in_fullres\"],\n",
    "            inplace=True,\n",
    "        )\n",
    "\n",
    "    return adata\n",
    "\n",
    "fpath = \"/HFD14/ST/\"\n",
    "current_directory = os.getcwd()+fpath\n",
    "print(current_directory)\n",
    "adata = read_visium(current_directory)\n",
    "sc.logging.print_memory_usage()\n",
    "adata"
   ]
  },
  {
   "cell_type": "code",
   "execution_count": 7,
   "id": "9f37d314-dcdf-49d9-9275-0fca5508030f",
   "metadata": {},
   "outputs": [],
   "source": [
    "import os\n",
    "os.environ[\"OMP_DISPLAY_ENV\"] = \"FALSE\""
   ]
  },
  {
   "cell_type": "code",
   "execution_count": 8,
   "id": "388488e3-8168-41f3-b7f5-c85a8d6ef209",
   "metadata": {},
   "outputs": [
    {
     "name": "stdout",
     "output_type": "stream",
     "text": [
      "WARNING: adata.X seems to be already log-transformed.\n"
     ]
    },
    {
     "data": {
      "text/plain": [
       "AnnData object with n_obs × n_vars = 7146 × 31053\n",
       "    obs: 'in_tissue_x', 'array_row_x', 'array_col_x', 'in_tissue_y', 'array_row_y', 'array_col_y'\n",
       "    var: 'gene_ids', 'feature_types', 'highly_variable', 'means', 'dispersions', 'dispersions_norm'\n",
       "    uns: 'spatial', 'log1p', 'hvg'\n",
       "    obsm: 'spatial'"
      ]
     },
     "execution_count": 8,
     "metadata": {},
     "output_type": "execute_result"
    }
   ],
   "source": [
    "# simple preprocessing\n",
    "sc.pp.normalize_total(adata)\n",
    "sc.pp.log1p(adata)\n",
    "sc.pp.highly_variable_genes(adata, flavor=\"seurat\", n_top_genes=2000)\n",
    "adata"
   ]
  },
  {
   "cell_type": "markdown",
   "id": "d10772c0-5586-4b6d-bc5a-bf44d7eb95d9",
   "metadata": {},
   "source": [
    "# Load the points for a single gene"
   ]
  },
  {
   "cell_type": "code",
   "execution_count": 16,
   "id": "df9f8d08-cb8a-4c76-844d-f4d550188711",
   "metadata": {},
   "outputs": [
    {
     "name": "stdout",
     "output_type": "stream",
     "text": [
      "df.shape=(7146, 1)\n",
      "coords.shape=(7146, 2)\n"
     ]
    },
    {
     "data": {
      "text/html": [
       "<div>\n",
       "<style scoped>\n",
       "    .dataframe tbody tr th:only-of-type {\n",
       "        vertical-align: middle;\n",
       "    }\n",
       "\n",
       "    .dataframe tbody tr th {\n",
       "        vertical-align: top;\n",
       "    }\n",
       "\n",
       "    .dataframe thead th {\n",
       "        text-align: right;\n",
       "    }\n",
       "</style>\n",
       "<table border=\"1\" class=\"dataframe\">\n",
       "  <thead>\n",
       "    <tr style=\"text-align: right;\">\n",
       "      <th></th>\n",
       "      <th>Trem2</th>\n",
       "      <th>x</th>\n",
       "      <th>y</th>\n",
       "    </tr>\n",
       "  </thead>\n",
       "  <tbody>\n",
       "    <tr>\n",
       "      <th>AAACCCAAGACTTCAC-1</th>\n",
       "      <td>0.815860</td>\n",
       "      <td>NaN</td>\n",
       "      <td>NaN</td>\n",
       "    </tr>\n",
       "    <tr>\n",
       "      <th>AAACCCAAGCAACAAT-1</th>\n",
       "      <td>1.257798</td>\n",
       "      <td>NaN</td>\n",
       "      <td>NaN</td>\n",
       "    </tr>\n",
       "    <tr>\n",
       "      <th>AAACCCAGTAGCACAG-1</th>\n",
       "      <td>0.000000</td>\n",
       "      <td>NaN</td>\n",
       "      <td>NaN</td>\n",
       "    </tr>\n",
       "    <tr>\n",
       "      <th>AAACCCAGTTAATCGC-1</th>\n",
       "      <td>0.000000</td>\n",
       "      <td>NaN</td>\n",
       "      <td>NaN</td>\n",
       "    </tr>\n",
       "    <tr>\n",
       "      <th>AAACCCAGTTACCTGA-1</th>\n",
       "      <td>0.903120</td>\n",
       "      <td>NaN</td>\n",
       "      <td>NaN</td>\n",
       "    </tr>\n",
       "  </tbody>\n",
       "</table>\n",
       "</div>"
      ],
      "text/plain": [
       "                       Trem2   x   y\n",
       "AAACCCAAGACTTCAC-1  0.815860 NaN NaN\n",
       "AAACCCAAGCAACAAT-1  1.257798 NaN NaN\n",
       "AAACCCAGTAGCACAG-1  0.000000 NaN NaN\n",
       "AAACCCAGTTAATCGC-1  0.000000 NaN NaN\n",
       "AAACCCAGTTACCTGA-1  0.903120 NaN NaN"
      ]
     },
     "execution_count": 16,
     "metadata": {},
     "output_type": "execute_result"
    }
   ],
   "source": [
    "gene = 'Trem2'\n",
    "\n",
    "df = adata[:, gene].to_df()\n",
    "print(f\"{df.shape=}\")\n",
    "\n",
    "coords = pd.DataFrame(adata.obsm['spatial'], index=df.index, columns=['x', 'y'])\n",
    "print(f\"{coords.shape=}\")\n",
    "\n",
    "# merge in the coordinates\n",
    "df = pd.merge(\n",
    "    df, \n",
    "    coords, \n",
    "    how='left', \n",
    "    left_index=True, \n",
    "    right_index=True,\n",
    ")\n",
    "\n",
    "df.head()"
   ]
  },
  {
   "cell_type": "code",
   "execution_count": 17,
   "id": "a7d3659d-62bb-4f9f-83df-9affcbb60d5a",
   "metadata": {},
   "outputs": [
    {
     "name": "stderr",
     "output_type": "stream",
     "text": [
      "/var/folders/6g/__5vs7k9339d_y5ztlb880wm0000gn/T/ipykernel_41832/3173582000.py:6: UserWarning: Ignoring `palette` because no `hue` variable has been assigned.\n",
      "  sns.scatterplot(\n"
     ]
    },
    {
     "data": {
      "image/png": "[encoded data removed]",
      "text/plain": [
       "<Figure size 1000x1000 with 2 Axes>"
      ]
     },
     "metadata": {},
     "output_type": "display_data"
    }
   ],
   "source": [
    "plt.rcParams['figure.dpi'] = 200\n",
    "plt.rcParams['figure.figsize'] = 5, 5\n",
    "\n",
    "cmap = 'afmhot'\n",
    "\n",
    "sns.scatterplot(\n",
    "    data=df,\n",
    "    x='x',\n",
    "    y='y',\n",
    "    c='k',\n",
    "    palette='Reds',\n",
    "    s=35,\n",
    "    ec='none'\n",
    ")\n",
    "\n",
    "scatter_plot = sns.scatterplot(\n",
    "    data=df,\n",
    "    x='x',\n",
    "    y='y',\n",
    "    hue=gene,\n",
    "    ec='none',\n",
    "    palette=cmap,\n",
    "    s=7,\n",
    "    legend=False,\n",
    ")\n",
    "\n",
    "plt.gca().invert_yaxis()\n",
    "plt.yticks([])\n",
    "plt.xticks([])\n",
    "plt.ylabel(\"\")\n",
    "plt.xlabel(\"\")\n",
    "plt.title(gene)\n",
    "\n",
    "norm = plt.Normalize(df[gene].min(), df[gene].max())\n",
    "sm = mplcm.ScalarMappable(norm=norm, cmap=cmap)\n",
    "sm.set_array([]) # need to set array for colorbar to work\n",
    "\n",
    "cbar_ax = plt.gcf().add_axes([0.92, 0.3, 0.03, 0.4])  # [left, bottom, width, height]\n",
    "cbar = plt.colorbar(sm, cax=cbar_ax, orientation='vertical')\n",
    "\n",
    "cbar.set_ticks([df[gene].min(), df[gene].max()])\n",
    "cbar.set_ticklabels(['low', 'high'])\n",
    "\n",
    "plt.show()"
   ]
  },
  {
   "cell_type": "code",
   "execution_count": null,
   "id": "ede7b17d-df46-418f-b291-4ce6521656df",
   "metadata": {},
   "outputs": [],
   "source": []
  }
 ],
 "metadata": {
  "kernelspec": {
   "display_name": "Python 3 (ipykernel)",
   "language": "python",
   "name": "python3"
  },
  "language_info": {
   "codemirror_mode": {
    "name": "ipython",
    "version": 3
   },
   "file_extension": ".py",
   "mimetype": "text/x-python",
   "name": "python",
   "nbconvert_exporter": "python",
   "pygments_lexer": "ipython3",
   "version": "3.11.5"
  }
 },
 "nbformat": 4,
 "nbformat_minor": 5
}
